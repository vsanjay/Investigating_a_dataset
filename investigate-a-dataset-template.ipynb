{
 "cells": [
  {
   "cell_type": "markdown",
   "metadata": {},
   "source": [
    "# Investigating The Movie Database Dataset (TMDB)"
   ]
  },
  {
   "cell_type": "markdown",
   "metadata": {},
   "source": [
    "## Introduction"
   ]
  },
  {
   "cell_type": "markdown",
   "metadata": {},
   "source": [
    "In this project we are gonna investigate on a **TMDB** dataset.**TMDB** dataset contains info about 10,000 movies.\n",
    "We are gonna follow all the steps in data analysis like Posing questions,data wrangling,data exploring etc.\n",
    "\n",
    "So,Lets get started with Posing questions."
   ]
  },
  {
   "cell_type": "markdown",
   "metadata": {},
   "source": [
    "## Asking Questions"
   ]
  },
  {
   "cell_type": "markdown",
   "metadata": {},
   "source": [
    "The following are the questions that we are gonna ask before exploring on our data set.\n",
    "\n",
    "1. What kinds of properties are associated with movies that have high revenues?"
   ]
  },
  {
   "cell_type": "markdown",
   "metadata": {},
   "source": [
    "## Data wrangling"
   ]
  },
  {
   "cell_type": "code",
   "execution_count": 242,
   "metadata": {
    "collapsed": true
   },
   "outputs": [],
   "source": [
    "# import required libraries\n",
    "\n",
    "import pandas as pd\n",
    "import numpy as np\n",
    "import matplotlib.pyplot as plt\n",
    "import seaborn as sb\n",
    "%matplotlib inline"
   ]
  },
  {
   "cell_type": "code",
   "execution_count": 243,
   "metadata": {
    "collapsed": true
   },
   "outputs": [],
   "source": [
    "# Load the dataset\n",
    "\n",
    "data = pd.read_csv(\"tmdb-movies.csv\")"
   ]
  },
  {
   "cell_type": "code",
   "execution_count": 244,
   "metadata": {},
   "outputs": [
    {
     "data": {
      "text/html": [
       "<div>\n",
       "<style>\n",
       "    .dataframe thead tr:only-child th {\n",
       "        text-align: right;\n",
       "    }\n",
       "\n",
       "    .dataframe thead th {\n",
       "        text-align: left;\n",
       "    }\n",
       "\n",
       "    .dataframe tbody tr th {\n",
       "        vertical-align: top;\n",
       "    }\n",
       "</style>\n",
       "<table border=\"1\" class=\"dataframe\">\n",
       "  <thead>\n",
       "    <tr style=\"text-align: right;\">\n",
       "      <th></th>\n",
       "      <th>id</th>\n",
       "      <th>imdb_id</th>\n",
       "      <th>popularity</th>\n",
       "      <th>budget</th>\n",
       "      <th>revenue</th>\n",
       "      <th>original_title</th>\n",
       "      <th>cast</th>\n",
       "      <th>homepage</th>\n",
       "      <th>director</th>\n",
       "      <th>tagline</th>\n",
       "      <th>...</th>\n",
       "      <th>overview</th>\n",
       "      <th>runtime</th>\n",
       "      <th>genres</th>\n",
       "      <th>production_companies</th>\n",
       "      <th>release_date</th>\n",
       "      <th>vote_count</th>\n",
       "      <th>vote_average</th>\n",
       "      <th>release_year</th>\n",
       "      <th>budget_adj</th>\n",
       "      <th>revenue_adj</th>\n",
       "    </tr>\n",
       "  </thead>\n",
       "  <tbody>\n",
       "    <tr>\n",
       "      <th>0</th>\n",
       "      <td>135397</td>\n",
       "      <td>tt0369610</td>\n",
       "      <td>32.985763</td>\n",
       "      <td>150000000</td>\n",
       "      <td>1513528810</td>\n",
       "      <td>Jurassic World</td>\n",
       "      <td>Chris Pratt|Bryce Dallas Howard|Irrfan Khan|Vi...</td>\n",
       "      <td>http://www.jurassicworld.com/</td>\n",
       "      <td>Colin Trevorrow</td>\n",
       "      <td>The park is open.</td>\n",
       "      <td>...</td>\n",
       "      <td>Twenty-two years after the events of Jurassic ...</td>\n",
       "      <td>124</td>\n",
       "      <td>Action|Adventure|Science Fiction|Thriller</td>\n",
       "      <td>Universal Studios|Amblin Entertainment|Legenda...</td>\n",
       "      <td>6/9/15</td>\n",
       "      <td>5562</td>\n",
       "      <td>6.5</td>\n",
       "      <td>2015</td>\n",
       "      <td>1.379999e+08</td>\n",
       "      <td>1.392446e+09</td>\n",
       "    </tr>\n",
       "  </tbody>\n",
       "</table>\n",
       "<p>1 rows × 21 columns</p>\n",
       "</div>"
      ],
      "text/plain": [
       "       id    imdb_id  popularity     budget     revenue  original_title  \\\n",
       "0  135397  tt0369610   32.985763  150000000  1513528810  Jurassic World   \n",
       "\n",
       "                                                cast  \\\n",
       "0  Chris Pratt|Bryce Dallas Howard|Irrfan Khan|Vi...   \n",
       "\n",
       "                        homepage         director            tagline  \\\n",
       "0  http://www.jurassicworld.com/  Colin Trevorrow  The park is open.   \n",
       "\n",
       "       ...                                                overview runtime  \\\n",
       "0      ...       Twenty-two years after the events of Jurassic ...     124   \n",
       "\n",
       "                                      genres  \\\n",
       "0  Action|Adventure|Science Fiction|Thriller   \n",
       "\n",
       "                                production_companies release_date vote_count  \\\n",
       "0  Universal Studios|Amblin Entertainment|Legenda...       6/9/15       5562   \n",
       "\n",
       "   vote_average  release_year    budget_adj   revenue_adj  \n",
       "0           6.5          2015  1.379999e+08  1.392446e+09  \n",
       "\n",
       "[1 rows x 21 columns]"
      ]
     },
     "execution_count": 244,
     "metadata": {},
     "output_type": "execute_result"
    }
   ],
   "source": [
    "#Lets see how our data looks\n",
    "\n",
    "data.head(1)"
   ]
  },
  {
   "cell_type": "code",
   "execution_count": 245,
   "metadata": {},
   "outputs": [
    {
     "data": {
      "text/plain": [
       "(10866, 21)"
      ]
     },
     "execution_count": 245,
     "metadata": {},
     "output_type": "execute_result"
    }
   ],
   "source": [
    "data.shape"
   ]
  },
  {
   "cell_type": "markdown",
   "metadata": {},
   "source": [
    "Hmmm,we see that there are some columns which wont affect our question from answering even if we remove them.So,lets just remove those columns first."
   ]
  },
  {
   "cell_type": "code",
   "execution_count": 246,
   "metadata": {
    "collapsed": true
   },
   "outputs": [],
   "source": [
    "unnecessary_columns = ['imdb_id','original_title','homepage','tagline','overview','keywords','cast','production_companies','revenue_adj','budget_adj']\n",
    "data.drop(unnecessary_columns,axis = 1,inplace = True)"
   ]
  },
  {
   "cell_type": "code",
   "execution_count": 247,
   "metadata": {},
   "outputs": [
    {
     "data": {
      "text/html": [
       "<div>\n",
       "<style>\n",
       "    .dataframe thead tr:only-child th {\n",
       "        text-align: right;\n",
       "    }\n",
       "\n",
       "    .dataframe thead th {\n",
       "        text-align: left;\n",
       "    }\n",
       "\n",
       "    .dataframe tbody tr th {\n",
       "        vertical-align: top;\n",
       "    }\n",
       "</style>\n",
       "<table border=\"1\" class=\"dataframe\">\n",
       "  <thead>\n",
       "    <tr style=\"text-align: right;\">\n",
       "      <th></th>\n",
       "      <th>id</th>\n",
       "      <th>popularity</th>\n",
       "      <th>budget</th>\n",
       "      <th>revenue</th>\n",
       "      <th>director</th>\n",
       "      <th>runtime</th>\n",
       "      <th>genres</th>\n",
       "      <th>release_date</th>\n",
       "      <th>vote_count</th>\n",
       "      <th>vote_average</th>\n",
       "      <th>release_year</th>\n",
       "    </tr>\n",
       "  </thead>\n",
       "  <tbody>\n",
       "    <tr>\n",
       "      <th>0</th>\n",
       "      <td>135397</td>\n",
       "      <td>32.985763</td>\n",
       "      <td>150000000</td>\n",
       "      <td>1513528810</td>\n",
       "      <td>Colin Trevorrow</td>\n",
       "      <td>124</td>\n",
       "      <td>Action|Adventure|Science Fiction|Thriller</td>\n",
       "      <td>6/9/15</td>\n",
       "      <td>5562</td>\n",
       "      <td>6.5</td>\n",
       "      <td>2015</td>\n",
       "    </tr>\n",
       "  </tbody>\n",
       "</table>\n",
       "</div>"
      ],
      "text/plain": [
       "       id  popularity     budget     revenue         director  runtime  \\\n",
       "0  135397   32.985763  150000000  1513528810  Colin Trevorrow      124   \n",
       "\n",
       "                                      genres release_date  vote_count  \\\n",
       "0  Action|Adventure|Science Fiction|Thriller       6/9/15        5562   \n",
       "\n",
       "   vote_average  release_year  \n",
       "0           6.5          2015  "
      ]
     },
     "execution_count": 247,
     "metadata": {},
     "output_type": "execute_result"
    }
   ],
   "source": [
    "data.head(1)"
   ]
  },
  {
   "cell_type": "markdown",
   "metadata": {},
   "source": [
    "Well,you may ask, why did we remove cast as it could be a parameter which could affect revenue.Yeah,but the number of movies an actor acted is very less compared to number of movies we are investigating on,so it wont actually have a vast affect.\n",
    "\n",
    "\n",
    "\n",
    "Also in the above cells output,if you observe we have many gernes for a single movie.It would be more useful if we just made diffent data lines for each genre seperatley.So,lets do that now."
   ]
  },
  {
   "cell_type": "code",
   "execution_count": 248,
   "metadata": {},
   "outputs": [],
   "source": [
    "columns_to_be_split = ['genres']\n",
    "\n",
    "for column in columns_to_be_split:\n",
    "    \n",
    "    df = data[column].str.split('|', expand=True).stack().reset_index(level=0).set_index('level_0').rename(columns={0:column}).join(data.drop(column,axis = 1), how='left')\n",
    "    data = df\n",
    "\n"
   ]
  },
  {
   "cell_type": "code",
   "execution_count": 249,
   "metadata": {},
   "outputs": [
    {
     "data": {
      "text/plain": [
       "(26960, 11)"
      ]
     },
     "execution_count": 249,
     "metadata": {},
     "output_type": "execute_result"
    }
   ],
   "source": [
    "data.shape"
   ]
  },
  {
   "cell_type": "code",
   "execution_count": 250,
   "metadata": {},
   "outputs": [
    {
     "data": {
      "text/html": [
       "<div>\n",
       "<style>\n",
       "    .dataframe thead tr:only-child th {\n",
       "        text-align: right;\n",
       "    }\n",
       "\n",
       "    .dataframe thead th {\n",
       "        text-align: left;\n",
       "    }\n",
       "\n",
       "    .dataframe tbody tr th {\n",
       "        vertical-align: top;\n",
       "    }\n",
       "</style>\n",
       "<table border=\"1\" class=\"dataframe\">\n",
       "  <thead>\n",
       "    <tr style=\"text-align: right;\">\n",
       "      <th></th>\n",
       "      <th>genres</th>\n",
       "      <th>id</th>\n",
       "      <th>popularity</th>\n",
       "      <th>budget</th>\n",
       "      <th>revenue</th>\n",
       "      <th>director</th>\n",
       "      <th>runtime</th>\n",
       "      <th>release_date</th>\n",
       "      <th>vote_count</th>\n",
       "      <th>vote_average</th>\n",
       "      <th>release_year</th>\n",
       "    </tr>\n",
       "  </thead>\n",
       "  <tbody>\n",
       "    <tr>\n",
       "      <th>0</th>\n",
       "      <td>Action</td>\n",
       "      <td>135397</td>\n",
       "      <td>32.985763</td>\n",
       "      <td>150000000</td>\n",
       "      <td>1513528810</td>\n",
       "      <td>Colin Trevorrow</td>\n",
       "      <td>124</td>\n",
       "      <td>6/9/15</td>\n",
       "      <td>5562</td>\n",
       "      <td>6.5</td>\n",
       "      <td>2015</td>\n",
       "    </tr>\n",
       "    <tr>\n",
       "      <th>0</th>\n",
       "      <td>Adventure</td>\n",
       "      <td>135397</td>\n",
       "      <td>32.985763</td>\n",
       "      <td>150000000</td>\n",
       "      <td>1513528810</td>\n",
       "      <td>Colin Trevorrow</td>\n",
       "      <td>124</td>\n",
       "      <td>6/9/15</td>\n",
       "      <td>5562</td>\n",
       "      <td>6.5</td>\n",
       "      <td>2015</td>\n",
       "    </tr>\n",
       "    <tr>\n",
       "      <th>0</th>\n",
       "      <td>Science Fiction</td>\n",
       "      <td>135397</td>\n",
       "      <td>32.985763</td>\n",
       "      <td>150000000</td>\n",
       "      <td>1513528810</td>\n",
       "      <td>Colin Trevorrow</td>\n",
       "      <td>124</td>\n",
       "      <td>6/9/15</td>\n",
       "      <td>5562</td>\n",
       "      <td>6.5</td>\n",
       "      <td>2015</td>\n",
       "    </tr>\n",
       "  </tbody>\n",
       "</table>\n",
       "</div>"
      ],
      "text/plain": [
       "            genres      id  popularity     budget     revenue  \\\n",
       "0           Action  135397   32.985763  150000000  1513528810   \n",
       "0        Adventure  135397   32.985763  150000000  1513528810   \n",
       "0  Science Fiction  135397   32.985763  150000000  1513528810   \n",
       "\n",
       "          director  runtime release_date  vote_count  vote_average  \\\n",
       "0  Colin Trevorrow      124       6/9/15        5562           6.5   \n",
       "0  Colin Trevorrow      124       6/9/15        5562           6.5   \n",
       "0  Colin Trevorrow      124       6/9/15        5562           6.5   \n",
       "\n",
       "   release_year  \n",
       "0          2015  \n",
       "0          2015  \n",
       "0          2015  "
      ]
     },
     "execution_count": 250,
     "metadata": {},
     "output_type": "execute_result"
    }
   ],
   "source": [
    "data.head(3) # great, it worked"
   ]
  },
  {
   "cell_type": "markdown",
   "metadata": {},
   "source": [
    "Now,lets see some properties of our dataset,like mean,median and also if there are any missing values,duplicates etc."
   ]
  },
  {
   "cell_type": "code",
   "execution_count": 251,
   "metadata": {},
   "outputs": [
    {
     "data": {
      "text/plain": [
       "5"
      ]
     },
     "execution_count": 251,
     "metadata": {},
     "output_type": "execute_result"
    }
   ],
   "source": [
    "sum(data.duplicated()) #We found duplicates.Remove it."
   ]
  },
  {
   "cell_type": "code",
   "execution_count": 252,
   "metadata": {
    "collapsed": true
   },
   "outputs": [],
   "source": [
    "# Remove duplicates\n",
    "\n",
    "data.drop_duplicates(inplace=True)"
   ]
  },
  {
   "cell_type": "code",
   "execution_count": 253,
   "metadata": {},
   "outputs": [
    {
     "data": {
      "text/plain": [
       "(26955, 11)"
      ]
     },
     "execution_count": 253,
     "metadata": {},
     "output_type": "execute_result"
    }
   ],
   "source": [
    "data.shape #Done."
   ]
  },
  {
   "cell_type": "code",
   "execution_count": 254,
   "metadata": {},
   "outputs": [
    {
     "name": "stdout",
     "output_type": "stream",
     "text": [
      "<class 'pandas.core.frame.DataFrame'>\n",
      "Int64Index: 26955 entries, 0 to 10865\n",
      "Data columns (total 11 columns):\n",
      "genres          26955 non-null object\n",
      "id              26955 non-null int64\n",
      "popularity      26955 non-null float64\n",
      "budget          26955 non-null int64\n",
      "revenue         26955 non-null int64\n",
      "director        26864 non-null object\n",
      "runtime         26955 non-null int64\n",
      "release_date    26955 non-null object\n",
      "vote_count      26955 non-null int64\n",
      "vote_average    26955 non-null float64\n",
      "release_year    26955 non-null int64\n",
      "dtypes: float64(2), int64(6), object(3)\n",
      "memory usage: 2.5+ MB\n"
     ]
    }
   ],
   "source": [
    "data.info()"
   ]
  },
  {
   "cell_type": "markdown",
   "metadata": {},
   "source": [
    "Lets just remove the rows with missing values as cant fill in directors for those movies."
   ]
  },
  {
   "cell_type": "code",
   "execution_count": 255,
   "metadata": {
    "collapsed": true
   },
   "outputs": [],
   "source": [
    "#drop the rows with missing values\n",
    "\n",
    "data.dropna(inplace=True)"
   ]
  },
  {
   "cell_type": "code",
   "execution_count": 256,
   "metadata": {},
   "outputs": [
    {
     "name": "stdout",
     "output_type": "stream",
     "text": [
      "<class 'pandas.core.frame.DataFrame'>\n",
      "Int64Index: 26864 entries, 0 to 10865\n",
      "Data columns (total 11 columns):\n",
      "genres          26864 non-null object\n",
      "id              26864 non-null int64\n",
      "popularity      26864 non-null float64\n",
      "budget          26864 non-null int64\n",
      "revenue         26864 non-null int64\n",
      "director        26864 non-null object\n",
      "runtime         26864 non-null int64\n",
      "release_date    26864 non-null object\n",
      "vote_count      26864 non-null int64\n",
      "vote_average    26864 non-null float64\n",
      "release_year    26864 non-null int64\n",
      "dtypes: float64(2), int64(6), object(3)\n",
      "memory usage: 2.5+ MB\n"
     ]
    }
   ],
   "source": [
    "data.info() #Lets confirm if they are removed."
   ]
  },
  {
   "cell_type": "code",
   "execution_count": 257,
   "metadata": {},
   "outputs": [
    {
     "data": {
      "text/html": [
       "<div>\n",
       "<style>\n",
       "    .dataframe thead tr:only-child th {\n",
       "        text-align: right;\n",
       "    }\n",
       "\n",
       "    .dataframe thead th {\n",
       "        text-align: left;\n",
       "    }\n",
       "\n",
       "    .dataframe tbody tr th {\n",
       "        vertical-align: top;\n",
       "    }\n",
       "</style>\n",
       "<table border=\"1\" class=\"dataframe\">\n",
       "  <thead>\n",
       "    <tr style=\"text-align: right;\">\n",
       "      <th></th>\n",
       "      <th>id</th>\n",
       "      <th>popularity</th>\n",
       "      <th>budget</th>\n",
       "      <th>revenue</th>\n",
       "      <th>runtime</th>\n",
       "      <th>vote_count</th>\n",
       "      <th>vote_average</th>\n",
       "      <th>release_year</th>\n",
       "    </tr>\n",
       "  </thead>\n",
       "  <tbody>\n",
       "    <tr>\n",
       "      <th>count</th>\n",
       "      <td>26864.000000</td>\n",
       "      <td>26864.000000</td>\n",
       "      <td>2.686400e+04</td>\n",
       "      <td>2.686400e+04</td>\n",
       "      <td>26864.000000</td>\n",
       "      <td>26864.000000</td>\n",
       "      <td>26864.000000</td>\n",
       "      <td>26864.000000</td>\n",
       "    </tr>\n",
       "    <tr>\n",
       "      <th>mean</th>\n",
       "      <td>58440.024903</td>\n",
       "      <td>0.707988</td>\n",
       "      <td>1.756557e+07</td>\n",
       "      <td>4.760272e+07</td>\n",
       "      <td>102.841758</td>\n",
       "      <td>250.782720</td>\n",
       "      <td>5.954370</td>\n",
       "      <td>2000.675886</td>\n",
       "    </tr>\n",
       "    <tr>\n",
       "      <th>std</th>\n",
       "      <td>86513.358901</td>\n",
       "      <td>1.116378</td>\n",
       "      <td>3.465316e+07</td>\n",
       "      <td>1.324054e+08</td>\n",
       "      <td>29.800772</td>\n",
       "      <td>638.957858</td>\n",
       "      <td>0.911253</td>\n",
       "      <td>12.770128</td>\n",
       "    </tr>\n",
       "    <tr>\n",
       "      <th>min</th>\n",
       "      <td>5.000000</td>\n",
       "      <td>0.000188</td>\n",
       "      <td>0.000000e+00</td>\n",
       "      <td>0.000000e+00</td>\n",
       "      <td>0.000000</td>\n",
       "      <td>10.000000</td>\n",
       "      <td>1.500000</td>\n",
       "      <td>1960.000000</td>\n",
       "    </tr>\n",
       "    <tr>\n",
       "      <th>25%</th>\n",
       "      <td>10192.000000</td>\n",
       "      <td>0.225678</td>\n",
       "      <td>0.000000e+00</td>\n",
       "      <td>0.000000e+00</td>\n",
       "      <td>90.000000</td>\n",
       "      <td>18.000000</td>\n",
       "      <td>5.400000</td>\n",
       "      <td>1994.000000</td>\n",
       "    </tr>\n",
       "    <tr>\n",
       "      <th>50%</th>\n",
       "      <td>18129.000000</td>\n",
       "      <td>0.412474</td>\n",
       "      <td>5.000000e+03</td>\n",
       "      <td>0.000000e+00</td>\n",
       "      <td>100.000000</td>\n",
       "      <td>44.000000</td>\n",
       "      <td>6.000000</td>\n",
       "      <td>2005.000000</td>\n",
       "    </tr>\n",
       "    <tr>\n",
       "      <th>75%</th>\n",
       "      <td>57961.000000</td>\n",
       "      <td>0.777600</td>\n",
       "      <td>2.000000e+07</td>\n",
       "      <td>3.092569e+07</td>\n",
       "      <td>112.000000</td>\n",
       "      <td>174.000000</td>\n",
       "      <td>6.600000</td>\n",
       "      <td>2011.000000</td>\n",
       "    </tr>\n",
       "    <tr>\n",
       "      <th>max</th>\n",
       "      <td>417859.000000</td>\n",
       "      <td>32.985763</td>\n",
       "      <td>4.250000e+08</td>\n",
       "      <td>2.781506e+09</td>\n",
       "      <td>900.000000</td>\n",
       "      <td>9767.000000</td>\n",
       "      <td>9.200000</td>\n",
       "      <td>2015.000000</td>\n",
       "    </tr>\n",
       "  </tbody>\n",
       "</table>\n",
       "</div>"
      ],
      "text/plain": [
       "                  id    popularity        budget       revenue       runtime  \\\n",
       "count   26864.000000  26864.000000  2.686400e+04  2.686400e+04  26864.000000   \n",
       "mean    58440.024903      0.707988  1.756557e+07  4.760272e+07    102.841758   \n",
       "std     86513.358901      1.116378  3.465316e+07  1.324054e+08     29.800772   \n",
       "min         5.000000      0.000188  0.000000e+00  0.000000e+00      0.000000   \n",
       "25%     10192.000000      0.225678  0.000000e+00  0.000000e+00     90.000000   \n",
       "50%     18129.000000      0.412474  5.000000e+03  0.000000e+00    100.000000   \n",
       "75%     57961.000000      0.777600  2.000000e+07  3.092569e+07    112.000000   \n",
       "max    417859.000000     32.985763  4.250000e+08  2.781506e+09    900.000000   \n",
       "\n",
       "         vote_count  vote_average  release_year  \n",
       "count  26864.000000  26864.000000  26864.000000  \n",
       "mean     250.782720      5.954370   2000.675886  \n",
       "std      638.957858      0.911253     12.770128  \n",
       "min       10.000000      1.500000   1960.000000  \n",
       "25%       18.000000      5.400000   1994.000000  \n",
       "50%       44.000000      6.000000   2005.000000  \n",
       "75%      174.000000      6.600000   2011.000000  \n",
       "max     9767.000000      9.200000   2015.000000  "
      ]
     },
     "execution_count": 257,
     "metadata": {},
     "output_type": "execute_result"
    }
   ],
   "source": [
    "data.describe()"
   ]
  },
  {
   "cell_type": "markdown",
   "metadata": {},
   "source": [
    "Oh boy! We can see that minimum values for budget,revenue,runtime is 0.That means there might me more too.Lets check how many of them are present.\n",
    "\n",
    "Also lets check datatypes of our column as we will now work with queries."
   ]
  },
  {
   "cell_type": "code",
   "execution_count": 258,
   "metadata": {},
   "outputs": [
    {
     "data": {
      "text/plain": [
       "genres           object\n",
       "id                int64\n",
       "popularity      float64\n",
       "budget            int64\n",
       "revenue           int64\n",
       "director         object\n",
       "runtime           int64\n",
       "release_date     object\n",
       "vote_count        int64\n",
       "vote_average    float64\n",
       "release_year      int64\n",
       "dtype: object"
      ]
     },
     "execution_count": 258,
     "metadata": {},
     "output_type": "execute_result"
    }
   ],
   "source": [
    "df.dtypes"
   ]
  },
  {
   "cell_type": "markdown",
   "metadata": {},
   "source": [
    "We can see that datatypes are appropriate.So,its cool."
   ]
  },
  {
   "cell_type": "code",
   "execution_count": 259,
   "metadata": {},
   "outputs": [
    {
     "name": "stdout",
     "output_type": "stream",
     "text": [
      "budget :13274\n",
      "revenue :14204\n",
      "runtime :55\n"
     ]
    }
   ],
   "source": [
    "#Lets see how many values are zeroes for a respective column.\n",
    "\n",
    "columns_to_be_verified = [\"budget\",\"revenue\",\"runtime\"]\n",
    "\n",
    "for column in columns_to_be_verified:\n",
    "    print(str(column) + \" :\"  + str(sum(data[column] == 0.0)))"
   ]
  },
  {
   "cell_type": "markdown",
   "metadata": {},
   "source": [
    "Okay.We have quite a lot of cells with missing values.We can actually set them to mean value for that column but that would be wrong.\n",
    "\n",
    "Because there are different genres of a movie and each genres budget,runtime would be different.\n",
    "\n",
    "So, instead what we could do is,we can fix those values with mean value of the movies of same genre.This would be smart way of doing it.So,lets get to it.\n",
    "\n",
    "Also dont forget to exclude values with value = 0 while claculating mean."
   ]
  },
  {
   "cell_type": "code",
   "execution_count": 260,
   "metadata": {},
   "outputs": [],
   "source": [
    "import numpy as np #Setting a new index which will make us convinient while applying function\n",
    "\n",
    "data[\"index\"] = np.arange(data.shape[0])\n",
    "data.set_index(\"index\",inplace=True)"
   ]
  },
  {
   "cell_type": "code",
   "execution_count": 261,
   "metadata": {},
   "outputs": [
    {
     "data": {
      "text/html": [
       "<div>\n",
       "<style>\n",
       "    .dataframe thead tr:only-child th {\n",
       "        text-align: right;\n",
       "    }\n",
       "\n",
       "    .dataframe thead th {\n",
       "        text-align: left;\n",
       "    }\n",
       "\n",
       "    .dataframe tbody tr th {\n",
       "        vertical-align: top;\n",
       "    }\n",
       "</style>\n",
       "<table border=\"1\" class=\"dataframe\">\n",
       "  <thead>\n",
       "    <tr style=\"text-align: right;\">\n",
       "      <th></th>\n",
       "      <th>genres</th>\n",
       "      <th>id</th>\n",
       "      <th>popularity</th>\n",
       "      <th>budget</th>\n",
       "      <th>revenue</th>\n",
       "      <th>director</th>\n",
       "      <th>runtime</th>\n",
       "      <th>release_date</th>\n",
       "      <th>vote_count</th>\n",
       "      <th>vote_average</th>\n",
       "      <th>release_year</th>\n",
       "    </tr>\n",
       "    <tr>\n",
       "      <th>index</th>\n",
       "      <th></th>\n",
       "      <th></th>\n",
       "      <th></th>\n",
       "      <th></th>\n",
       "      <th></th>\n",
       "      <th></th>\n",
       "      <th></th>\n",
       "      <th></th>\n",
       "      <th></th>\n",
       "      <th></th>\n",
       "      <th></th>\n",
       "    </tr>\n",
       "  </thead>\n",
       "  <tbody>\n",
       "    <tr>\n",
       "      <th>0</th>\n",
       "      <td>Action</td>\n",
       "      <td>135397</td>\n",
       "      <td>32.985763</td>\n",
       "      <td>150000000</td>\n",
       "      <td>1513528810</td>\n",
       "      <td>Colin Trevorrow</td>\n",
       "      <td>124</td>\n",
       "      <td>6/9/15</td>\n",
       "      <td>5562</td>\n",
       "      <td>6.5</td>\n",
       "      <td>2015</td>\n",
       "    </tr>\n",
       "    <tr>\n",
       "      <th>1</th>\n",
       "      <td>Adventure</td>\n",
       "      <td>135397</td>\n",
       "      <td>32.985763</td>\n",
       "      <td>150000000</td>\n",
       "      <td>1513528810</td>\n",
       "      <td>Colin Trevorrow</td>\n",
       "      <td>124</td>\n",
       "      <td>6/9/15</td>\n",
       "      <td>5562</td>\n",
       "      <td>6.5</td>\n",
       "      <td>2015</td>\n",
       "    </tr>\n",
       "    <tr>\n",
       "      <th>2</th>\n",
       "      <td>Science Fiction</td>\n",
       "      <td>135397</td>\n",
       "      <td>32.985763</td>\n",
       "      <td>150000000</td>\n",
       "      <td>1513528810</td>\n",
       "      <td>Colin Trevorrow</td>\n",
       "      <td>124</td>\n",
       "      <td>6/9/15</td>\n",
       "      <td>5562</td>\n",
       "      <td>6.5</td>\n",
       "      <td>2015</td>\n",
       "    </tr>\n",
       "    <tr>\n",
       "      <th>3</th>\n",
       "      <td>Thriller</td>\n",
       "      <td>135397</td>\n",
       "      <td>32.985763</td>\n",
       "      <td>150000000</td>\n",
       "      <td>1513528810</td>\n",
       "      <td>Colin Trevorrow</td>\n",
       "      <td>124</td>\n",
       "      <td>6/9/15</td>\n",
       "      <td>5562</td>\n",
       "      <td>6.5</td>\n",
       "      <td>2015</td>\n",
       "    </tr>\n",
       "    <tr>\n",
       "      <th>4</th>\n",
       "      <td>Action</td>\n",
       "      <td>76341</td>\n",
       "      <td>28.419936</td>\n",
       "      <td>150000000</td>\n",
       "      <td>378436354</td>\n",
       "      <td>George Miller</td>\n",
       "      <td>120</td>\n",
       "      <td>5/13/15</td>\n",
       "      <td>6185</td>\n",
       "      <td>7.1</td>\n",
       "      <td>2015</td>\n",
       "    </tr>\n",
       "  </tbody>\n",
       "</table>\n",
       "</div>"
      ],
      "text/plain": [
       "                genres      id  popularity     budget     revenue  \\\n",
       "index                                                               \n",
       "0               Action  135397   32.985763  150000000  1513528810   \n",
       "1            Adventure  135397   32.985763  150000000  1513528810   \n",
       "2      Science Fiction  135397   32.985763  150000000  1513528810   \n",
       "3             Thriller  135397   32.985763  150000000  1513528810   \n",
       "4               Action   76341   28.419936  150000000   378436354   \n",
       "\n",
       "              director  runtime release_date  vote_count  vote_average  \\\n",
       "index                                                                    \n",
       "0      Colin Trevorrow      124       6/9/15        5562           6.5   \n",
       "1      Colin Trevorrow      124       6/9/15        5562           6.5   \n",
       "2      Colin Trevorrow      124       6/9/15        5562           6.5   \n",
       "3      Colin Trevorrow      124       6/9/15        5562           6.5   \n",
       "4        George Miller      120      5/13/15        6185           7.1   \n",
       "\n",
       "       release_year  \n",
       "index                \n",
       "0              2015  \n",
       "1              2015  \n",
       "2              2015  \n",
       "3              2015  \n",
       "4              2015  "
      ]
     },
     "execution_count": 261,
     "metadata": {},
     "output_type": "execute_result"
    }
   ],
   "source": [
    "data.head()"
   ]
  },
  {
   "cell_type": "code",
   "execution_count": 262,
   "metadata": {
    "collapsed": true
   },
   "outputs": [],
   "source": [
    "data_copy = data"
   ]
  },
  {
   "cell_type": "code",
   "execution_count": 263,
   "metadata": {},
   "outputs": [],
   "source": [
    "#Lets define our function to fill the zero values in required columns.\n",
    "\n",
    "column_in_action = \"\"  # This will keep track which column values are we filling in.\n",
    "\n",
    "def feed_zero_cells(row):\n",
    "    \n",
    "    if row[column_in_action] == 0:\n",
    "        return data_copy[data_copy[column_in_action]!= 0].groupby(\"genres\").mean().loc[row[\"genres\"]][column_in_action]  # We excluded rows with  values 0 while calculating mean which is important.\n",
    "    else:\n",
    "        return row[column_in_action]\n",
    "        "
   ]
  },
  {
   "cell_type": "code",
   "execution_count": 264,
   "metadata": {},
   "outputs": [],
   "source": [
    "# Lets store this as new column\n",
    "\n",
    "columns_to_be_corrected = ['budget','revenue','runtime']\n",
    "\n",
    "for column in columns_to_be_corrected:\n",
    "    \n",
    "    column_in_action = column\n",
    "    \n",
    "    data[column + \"_new\"] = data.apply(feed_zero_cells,axis = 1)"
   ]
  },
  {
   "cell_type": "code",
   "execution_count": 267,
   "metadata": {},
   "outputs": [],
   "source": [
    "#Lets drop old columns\n",
    "\n",
    "data = data.drop(columns_to_be_corrected,axis = 1)"
   ]
  },
  {
   "cell_type": "code",
   "execution_count": 269,
   "metadata": {},
   "outputs": [
    {
     "data": {
      "text/html": [
       "<div>\n",
       "<style>\n",
       "    .dataframe thead tr:only-child th {\n",
       "        text-align: right;\n",
       "    }\n",
       "\n",
       "    .dataframe thead th {\n",
       "        text-align: left;\n",
       "    }\n",
       "\n",
       "    .dataframe tbody tr th {\n",
       "        vertical-align: top;\n",
       "    }\n",
       "</style>\n",
       "<table border=\"1\" class=\"dataframe\">\n",
       "  <thead>\n",
       "    <tr style=\"text-align: right;\">\n",
       "      <th></th>\n",
       "      <th>id</th>\n",
       "      <th>popularity</th>\n",
       "      <th>vote_count</th>\n",
       "      <th>vote_average</th>\n",
       "      <th>release_year</th>\n",
       "      <th>budget_new</th>\n",
       "      <th>revenue_new</th>\n",
       "      <th>runtime_new</th>\n",
       "    </tr>\n",
       "  </thead>\n",
       "  <tbody>\n",
       "    <tr>\n",
       "      <th>count</th>\n",
       "      <td>26864.000000</td>\n",
       "      <td>26864.000000</td>\n",
       "      <td>26864.000000</td>\n",
       "      <td>26864.000000</td>\n",
       "      <td>26864.000000</td>\n",
       "      <td>2.686400e+04</td>\n",
       "      <td>2.686400e+04</td>\n",
       "      <td>26864.000000</td>\n",
       "    </tr>\n",
       "    <tr>\n",
       "      <th>mean</th>\n",
       "      <td>58440.024903</td>\n",
       "      <td>0.707988</td>\n",
       "      <td>250.782720</td>\n",
       "      <td>5.954370</td>\n",
       "      <td>2000.675886</td>\n",
       "      <td>3.355211e+07</td>\n",
       "      <td>9.841247e+07</td>\n",
       "      <td>103.050659</td>\n",
       "    </tr>\n",
       "    <tr>\n",
       "      <th>std</th>\n",
       "      <td>86513.358901</td>\n",
       "      <td>1.116378</td>\n",
       "      <td>638.957858</td>\n",
       "      <td>0.911253</td>\n",
       "      <td>12.770128</td>\n",
       "      <td>3.174768e+07</td>\n",
       "      <td>1.280499e+08</td>\n",
       "      <td>29.435808</td>\n",
       "    </tr>\n",
       "    <tr>\n",
       "      <th>min</th>\n",
       "      <td>5.000000</td>\n",
       "      <td>0.000188</td>\n",
       "      <td>10.000000</td>\n",
       "      <td>1.500000</td>\n",
       "      <td>1960.000000</td>\n",
       "      <td>1.000000e+00</td>\n",
       "      <td>2.000000e+00</td>\n",
       "      <td>2.000000</td>\n",
       "    </tr>\n",
       "    <tr>\n",
       "      <th>25%</th>\n",
       "      <td>10192.000000</td>\n",
       "      <td>0.225678</td>\n",
       "      <td>18.000000</td>\n",
       "      <td>5.400000</td>\n",
       "      <td>1994.000000</td>\n",
       "      <td>1.332396e+07</td>\n",
       "      <td>3.356114e+07</td>\n",
       "      <td>90.000000</td>\n",
       "    </tr>\n",
       "    <tr>\n",
       "      <th>50%</th>\n",
       "      <td>18129.000000</td>\n",
       "      <td>0.412474</td>\n",
       "      <td>44.000000</td>\n",
       "      <td>6.000000</td>\n",
       "      <td>2005.000000</td>\n",
       "      <td>2.800000e+07</td>\n",
       "      <td>6.974162e+07</td>\n",
       "      <td>100.000000</td>\n",
       "    </tr>\n",
       "    <tr>\n",
       "      <th>75%</th>\n",
       "      <td>57961.000000</td>\n",
       "      <td>0.777600</td>\n",
       "      <td>174.000000</td>\n",
       "      <td>6.600000</td>\n",
       "      <td>2011.000000</td>\n",
       "      <td>4.378235e+07</td>\n",
       "      <td>1.337187e+08</td>\n",
       "      <td>112.000000</td>\n",
       "    </tr>\n",
       "    <tr>\n",
       "      <th>max</th>\n",
       "      <td>417859.000000</td>\n",
       "      <td>32.985763</td>\n",
       "      <td>9767.000000</td>\n",
       "      <td>9.200000</td>\n",
       "      <td>2015.000000</td>\n",
       "      <td>4.250000e+08</td>\n",
       "      <td>2.781506e+09</td>\n",
       "      <td>900.000000</td>\n",
       "    </tr>\n",
       "  </tbody>\n",
       "</table>\n",
       "</div>"
      ],
      "text/plain": [
       "                  id    popularity    vote_count  vote_average  release_year  \\\n",
       "count   26864.000000  26864.000000  26864.000000  26864.000000  26864.000000   \n",
       "mean    58440.024903      0.707988    250.782720      5.954370   2000.675886   \n",
       "std     86513.358901      1.116378    638.957858      0.911253     12.770128   \n",
       "min         5.000000      0.000188     10.000000      1.500000   1960.000000   \n",
       "25%     10192.000000      0.225678     18.000000      5.400000   1994.000000   \n",
       "50%     18129.000000      0.412474     44.000000      6.000000   2005.000000   \n",
       "75%     57961.000000      0.777600    174.000000      6.600000   2011.000000   \n",
       "max    417859.000000     32.985763   9767.000000      9.200000   2015.000000   \n",
       "\n",
       "         budget_new   revenue_new   runtime_new  \n",
       "count  2.686400e+04  2.686400e+04  26864.000000  \n",
       "mean   3.355211e+07  9.841247e+07    103.050659  \n",
       "std    3.174768e+07  1.280499e+08     29.435808  \n",
       "min    1.000000e+00  2.000000e+00      2.000000  \n",
       "25%    1.332396e+07  3.356114e+07     90.000000  \n",
       "50%    2.800000e+07  6.974162e+07    100.000000  \n",
       "75%    4.378235e+07  1.337187e+08    112.000000  \n",
       "max    4.250000e+08  2.781506e+09    900.000000  "
      ]
     },
     "execution_count": 269,
     "metadata": {},
     "output_type": "execute_result"
    }
   ],
   "source": [
    "# Lets see if we fixed the issue.\n",
    "\n",
    "data.describe()  #We did it."
   ]
  },
  {
   "cell_type": "code",
   "execution_count": 275,
   "metadata": {
    "collapsed": true
   },
   "outputs": [],
   "source": [
    "#Month could be a useful parameter.So,lets make a column for it.\n",
    "\n",
    "data['release_month'] = data['release_date'].apply(lambda x : x.strip('/')[0])"
   ]
  },
  {
   "cell_type": "code",
   "execution_count": 278,
   "metadata": {},
   "outputs": [
    {
     "data": {
      "text/html": [
       "<div>\n",
       "<style>\n",
       "    .dataframe thead tr:only-child th {\n",
       "        text-align: right;\n",
       "    }\n",
       "\n",
       "    .dataframe thead th {\n",
       "        text-align: left;\n",
       "    }\n",
       "\n",
       "    .dataframe tbody tr th {\n",
       "        vertical-align: top;\n",
       "    }\n",
       "</style>\n",
       "<table border=\"1\" class=\"dataframe\">\n",
       "  <thead>\n",
       "    <tr style=\"text-align: right;\">\n",
       "      <th></th>\n",
       "      <th>genres</th>\n",
       "      <th>id</th>\n",
       "      <th>popularity</th>\n",
       "      <th>director</th>\n",
       "      <th>release_date</th>\n",
       "      <th>vote_count</th>\n",
       "      <th>vote_average</th>\n",
       "      <th>release_year</th>\n",
       "      <th>budget_new</th>\n",
       "      <th>revenue_new</th>\n",
       "      <th>runtime_new</th>\n",
       "      <th>release_month</th>\n",
       "    </tr>\n",
       "    <tr>\n",
       "      <th>index</th>\n",
       "      <th></th>\n",
       "      <th></th>\n",
       "      <th></th>\n",
       "      <th></th>\n",
       "      <th></th>\n",
       "      <th></th>\n",
       "      <th></th>\n",
       "      <th></th>\n",
       "      <th></th>\n",
       "      <th></th>\n",
       "      <th></th>\n",
       "      <th></th>\n",
       "    </tr>\n",
       "  </thead>\n",
       "  <tbody>\n",
       "    <tr>\n",
       "      <th>0</th>\n",
       "      <td>Action</td>\n",
       "      <td>135397</td>\n",
       "      <td>32.985763</td>\n",
       "      <td>Colin Trevorrow</td>\n",
       "      <td>6/9/15</td>\n",
       "      <td>5562</td>\n",
       "      <td>6.5</td>\n",
       "      <td>2015</td>\n",
       "      <td>150000000.0</td>\n",
       "      <td>1.513529e+09</td>\n",
       "      <td>124.0</td>\n",
       "      <td>6</td>\n",
       "    </tr>\n",
       "  </tbody>\n",
       "</table>\n",
       "</div>"
      ],
      "text/plain": [
       "       genres      id  popularity         director release_date  vote_count  \\\n",
       "index                                                                         \n",
       "0      Action  135397   32.985763  Colin Trevorrow       6/9/15        5562   \n",
       "\n",
       "       vote_average  release_year   budget_new   revenue_new  runtime_new  \\\n",
       "index                                                                       \n",
       "0               6.5          2015  150000000.0  1.513529e+09        124.0   \n",
       "\n",
       "      release_month  \n",
       "index                \n",
       "0                 6  "
      ]
     },
     "execution_count": 278,
     "metadata": {},
     "output_type": "execute_result"
    }
   ],
   "source": [
    "data.head(1)"
   ]
  },
  {
   "cell_type": "markdown",
   "metadata": {},
   "source": [
    "Now that our dataset is clean, we can jump to exploration."
   ]
  },
  {
   "cell_type": "markdown",
   "metadata": {},
   "source": [
    "# Exploration"
   ]
  },
  {
   "cell_type": "markdown",
   "metadata": {},
   "source": [
    "## Research question 1"
   ]
  },
  {
   "cell_type": "code",
   "execution_count": 273,
   "metadata": {},
   "outputs": [
    {
     "data": {
      "text/html": [
       "<div>\n",
       "<style>\n",
       "    .dataframe thead tr:only-child th {\n",
       "        text-align: right;\n",
       "    }\n",
       "\n",
       "    .dataframe thead th {\n",
       "        text-align: left;\n",
       "    }\n",
       "\n",
       "    .dataframe tbody tr th {\n",
       "        vertical-align: top;\n",
       "    }\n",
       "</style>\n",
       "<table border=\"1\" class=\"dataframe\">\n",
       "  <thead>\n",
       "    <tr style=\"text-align: right;\">\n",
       "      <th></th>\n",
       "      <th>genres</th>\n",
       "      <th>id</th>\n",
       "      <th>popularity</th>\n",
       "      <th>director</th>\n",
       "      <th>release_date</th>\n",
       "      <th>vote_count</th>\n",
       "      <th>vote_average</th>\n",
       "      <th>release_year</th>\n",
       "      <th>budget_new</th>\n",
       "      <th>revenue_new</th>\n",
       "      <th>runtime_new</th>\n",
       "    </tr>\n",
       "    <tr>\n",
       "      <th>index</th>\n",
       "      <th></th>\n",
       "      <th></th>\n",
       "      <th></th>\n",
       "      <th></th>\n",
       "      <th></th>\n",
       "      <th></th>\n",
       "      <th></th>\n",
       "      <th></th>\n",
       "      <th></th>\n",
       "      <th></th>\n",
       "      <th></th>\n",
       "    </tr>\n",
       "  </thead>\n",
       "  <tbody>\n",
       "    <tr>\n",
       "      <th>0</th>\n",
       "      <td>Action</td>\n",
       "      <td>135397</td>\n",
       "      <td>32.985763</td>\n",
       "      <td>Colin Trevorrow</td>\n",
       "      <td>6/9/15</td>\n",
       "      <td>5562</td>\n",
       "      <td>6.5</td>\n",
       "      <td>2015</td>\n",
       "      <td>150000000.0</td>\n",
       "      <td>1.513529e+09</td>\n",
       "      <td>124.0</td>\n",
       "    </tr>\n",
       "  </tbody>\n",
       "</table>\n",
       "</div>"
      ],
      "text/plain": [
       "       genres      id  popularity         director release_date  vote_count  \\\n",
       "index                                                                         \n",
       "0      Action  135397   32.985763  Colin Trevorrow       6/9/15        5562   \n",
       "\n",
       "       vote_average  release_year   budget_new   revenue_new  runtime_new  \n",
       "index                                                                      \n",
       "0               6.5          2015  150000000.0  1.513529e+09        124.0  "
      ]
     },
     "execution_count": 273,
     "metadata": {},
     "output_type": "execute_result"
    }
   ],
   "source": [
    "data.head(1)"
   ]
  },
  {
   "cell_type": "code",
   "execution_count": 279,
   "metadata": {},
   "outputs": [
    {
     "data": {
      "text/plain": [
       "<matplotlib.text.Text at 0x112e016d8>"
      ]
     },
     "execution_count": 279,
     "metadata": {},
     "output_type": "execute_result"
    },
    {
     "data": {
      "image/png": "[encoded data removed]",
      "text/plain": [
       "<matplotlib.figure.Figure at 0x11b965a90>"
      ]
     },
     "metadata": {},
     "output_type": "display_data"
    }
   ],
   "source": [
    "# Lets see how budget is related to revenue\n",
    "\n",
    "plt.scatter(data[\"budget_new\"],data[\"revenue_new\"])\n",
    "plt.xlabel(\"budget\")\n",
    "plt.ylabel(\"revenue\")"
   ]
  },
  {
   "cell_type": "markdown",
   "metadata": {},
   "source": [
    "We see that there a kind of correlation between budget and revenue and it is a positive correlation.Lets try another one."
   ]
  },
  {
   "cell_type": "code",
   "execution_count": 293,
   "metadata": {},
   "outputs": [
    {
     "data": {
      "text/plain": [
       "<matplotlib.text.Text at 0x11b8a1898>"
      ]
     },
     "execution_count": 293,
     "metadata": {},
     "output_type": "execute_result"
    },
    {
     "data": {
      "image/png": "[encoded data removed]",
      "text/plain": [
       "<matplotlib.figure.Figure at 0x1145fbd30>"
      ]
     },
     "metadata": {},
     "output_type": "display_data"
    }
   ],
   "source": [
    "# Lets see how runtime is affecting the revenue.\n",
    "plt.scatter(data[\"runtime_new\"],data[\"revenue_new\"])\n",
    "plt.xlim(1,1000)\n",
    "plt.xticks(np.arange(1,1000,59))\n",
    "plt.xlabel(\"runtime\")\n",
    "plt.ylabel(\"revenue\")"
   ]
  },
  {
   "cell_type": "markdown",
   "metadata": {},
   "source": [
    "Hmm,seems like people are not liking very short or very long movies.They are just going for an optimum range of [70,180]."
   ]
  },
  {
   "cell_type": "code",
   "execution_count": 294,
   "metadata": {},
   "outputs": [
    {
     "data": {
      "text/plain": [
       "<matplotlib.text.Text at 0x117d08a58>"
      ]
     },
     "execution_count": 294,
     "metadata": {},
     "output_type": "execute_result"
    },
    {
     "data": {
      "image/png": "[encoded data removed]",
      "text/plain": [
       "<matplotlib.figure.Figure at 0x115ec0080>"
      ]
     },
     "metadata": {},
     "output_type": "display_data"
    }
   ],
   "source": [
    "#Lets see if release month is gonna affect revenue.\n",
    "\n",
    "plt.scatter(data[\"release_month\"],data[\"revenue_new\"])\n",
    "plt.xlabel(\"release_month\")\n",
    "plt.ylabel(\"revenue\")"
   ]
  },
  {
   "cell_type": "markdown",
   "metadata": {},
   "source": [
    "Hmm,seems like february,august and november are pretty bad months to release movies.The top 3 months giving us best revenues are January,June,July."
   ]
  },
  {
   "cell_type": "code",
   "execution_count": 302,
   "metadata": {
    "collapsed": true
   },
   "outputs": [],
   "source": [
    "#Lets see how genre is gonna affect revenue.\n",
    "\n",
    "data_grouped_by_genre = data.groupby(\"genres\").mean()"
   ]
  },
  {
   "cell_type": "code",
   "execution_count": 305,
   "metadata": {},
   "outputs": [
    {
     "data": {
      "text/html": [
       "<div>\n",
       "<style>\n",
       "    .dataframe thead tr:only-child th {\n",
       "        text-align: right;\n",
       "    }\n",
       "\n",
       "    .dataframe thead th {\n",
       "        text-align: left;\n",
       "    }\n",
       "\n",
       "    .dataframe tbody tr th {\n",
       "        vertical-align: top;\n",
       "    }\n",
       "</style>\n",
       "<table border=\"1\" class=\"dataframe\">\n",
       "  <thead>\n",
       "    <tr style=\"text-align: right;\">\n",
       "      <th></th>\n",
       "      <th>id</th>\n",
       "      <th>popularity</th>\n",
       "      <th>vote_count</th>\n",
       "      <th>vote_average</th>\n",
       "      <th>release_year</th>\n",
       "      <th>budget_new</th>\n",
       "      <th>revenue_new</th>\n",
       "      <th>runtime_new</th>\n",
       "    </tr>\n",
       "    <tr>\n",
       "      <th>genres</th>\n",
       "      <th></th>\n",
       "      <th></th>\n",
       "      <th></th>\n",
       "      <th></th>\n",
       "      <th></th>\n",
       "      <th></th>\n",
       "      <th></th>\n",
       "      <th></th>\n",
       "    </tr>\n",
       "  </thead>\n",
       "  <tbody>\n",
       "    <tr>\n",
       "      <th>Action</th>\n",
       "      <td>52557.772498</td>\n",
       "      <td>0.928310</td>\n",
       "      <td>393.929352</td>\n",
       "      <td>5.786039</td>\n",
       "      <td>2000.039950</td>\n",
       "      <td>4.629070e+07</td>\n",
       "      <td>1.377323e+08</td>\n",
       "      <td>105.133838</td>\n",
       "    </tr>\n",
       "    <tr>\n",
       "      <th>Adventure</th>\n",
       "      <td>48400.940655</td>\n",
       "      <td>1.157736</td>\n",
       "      <td>514.793315</td>\n",
       "      <td>5.936426</td>\n",
       "      <td>1999.364256</td>\n",
       "      <td>6.095670e+07</td>\n",
       "      <td>1.974209e+08</td>\n",
       "      <td>106.440273</td>\n",
       "    </tr>\n",
       "    <tr>\n",
       "      <th>Animation</th>\n",
       "      <td>68362.687861</td>\n",
       "      <td>0.858912</td>\n",
       "      <td>305.835260</td>\n",
       "      <td>6.402312</td>\n",
       "      <td>2003.986994</td>\n",
       "      <td>6.226418e+07</td>\n",
       "      <td>2.219578e+08</td>\n",
       "      <td>68.349711</td>\n",
       "    </tr>\n",
       "    <tr>\n",
       "      <th>Comedy</th>\n",
       "      <td>53236.344791</td>\n",
       "      <td>0.593915</td>\n",
       "      <td>176.910100</td>\n",
       "      <td>5.902988</td>\n",
       "      <td>2000.788736</td>\n",
       "      <td>2.901600e+07</td>\n",
       "      <td>8.041019e+07</td>\n",
       "      <td>97.059650</td>\n",
       "    </tr>\n",
       "    <tr>\n",
       "      <th>Crime</th>\n",
       "      <td>47715.896526</td>\n",
       "      <td>0.745331</td>\n",
       "      <td>279.002956</td>\n",
       "      <td>6.124982</td>\n",
       "      <td>1999.483370</td>\n",
       "      <td>2.906049e+07</td>\n",
       "      <td>7.421367e+07</td>\n",
       "      <td>107.005917</td>\n",
       "    </tr>\n",
       "  </tbody>\n",
       "</table>\n",
       "</div>"
      ],
      "text/plain": [
       "                     id  popularity  vote_count  vote_average  release_year  \\\n",
       "genres                                                                        \n",
       "Action     52557.772498    0.928310  393.929352      5.786039   2000.039950   \n",
       "Adventure  48400.940655    1.157736  514.793315      5.936426   1999.364256   \n",
       "Animation  68362.687861    0.858912  305.835260      6.402312   2003.986994   \n",
       "Comedy     53236.344791    0.593915  176.910100      5.902988   2000.788736   \n",
       "Crime      47715.896526    0.745331  279.002956      6.124982   1999.483370   \n",
       "\n",
       "             budget_new   revenue_new  runtime_new  \n",
       "genres                                              \n",
       "Action     4.629070e+07  1.377323e+08   105.133838  \n",
       "Adventure  6.095670e+07  1.974209e+08   106.440273  \n",
       "Animation  6.226418e+07  2.219578e+08    68.349711  \n",
       "Comedy     2.901600e+07  8.041019e+07    97.059650  \n",
       "Crime      2.906049e+07  7.421367e+07   107.005917  "
      ]
     },
     "execution_count": 305,
     "metadata": {},
     "output_type": "execute_result"
    }
   ],
   "source": [
    "data_grouped_by_genre.head()"
   ]
  },
  {
   "cell_type": "code",
   "execution_count": 307,
   "metadata": {},
   "outputs": [
    {
     "data": {
      "text/plain": [
       "([<matplotlib.axis.XTick at 0x117385e80>,\n",
       "  <matplotlib.axis.XTick at 0x117076518>,\n",
       "  <matplotlib.axis.XTick at 0x1175d27f0>,\n",
       "  <matplotlib.axis.XTick at 0x11c6b5d68>,\n",
       "  <matplotlib.axis.XTick at 0x11c6a3780>,\n",
       "  <matplotlib.axis.XTick at 0x11c69f198>,\n",
       "  <matplotlib.axis.XTick at 0x11c69fb70>,\n",
       "  <matplotlib.axis.XTick at 0x11bdf4588>,\n",
       "  <matplotlib.axis.XTick at 0x11bdf4f60>,\n",
       "  <matplotlib.axis.XTick at 0x11be04978>,\n",
       "  <matplotlib.axis.XTick at 0x11be09390>,\n",
       "  <matplotlib.axis.XTick at 0x11be09d68>,\n",
       "  <matplotlib.axis.XTick at 0x11be1c780>,\n",
       "  <matplotlib.axis.XTick at 0x1175b2278>,\n",
       "  <matplotlib.axis.XTick at 0x1175d2a58>,\n",
       "  <matplotlib.axis.XTick at 0x11be26208>,\n",
       "  <matplotlib.axis.XTick at 0x11be26a20>,\n",
       "  <matplotlib.axis.XTick at 0x11bdec438>,\n",
       "  <matplotlib.axis.XTick at 0x11bdece10>,\n",
       "  <matplotlib.axis.XTick at 0x1109ce828>],\n",
       " <a list of 20 Text xticklabel objects>)"
      ]
     },
     "execution_count": 307,
     "metadata": {},
     "output_type": "execute_result"
    },
    {
     "data": {
      "image/png": "[encoded data removed]",
      "text/plain": [
       "<matplotlib.figure.Figure at 0x1175c4400>"
      ]
     },
     "metadata": {},
     "output_type": "display_data"
    }
   ],
   "source": [
    "plt.figure(figsize=(20,10))\n",
    "plt.bar(np.arange(20),data_grouped_by_genre[\"revenue_new\"])\n",
    "plt.xticks(np.arange(20),data['genres'].unique())"
   ]
  },
  {
   "cell_type": "markdown",
   "metadata": {},
   "source": [
    "Seems like,people are liking family movies than any other one."
   ]
  },
  {
   "cell_type": "markdown",
   "metadata": {},
   "source": [
    "# Conclusions"
   ]
  },
  {
   "cell_type": "markdown",
   "metadata": {},
   "source": [
    "So,here let me state some conclusions i made from the data i explored.\n",
    "\n",
    "From the bar graph above where we considered genres,you can see that movies whose genres are Science fiction,Adventure,Family,Drama and action got very high revenues.\n",
    "\n",
    "**So genre is one of the best property that is assosiated with revenue**\n",
    "\n",
    "Next if we look at the scatter plot between runtime and revenue,you can clearly see people are not liking very short or very long movies.They go for an optimum one.\n",
    "\n",
    "**So runtime is one other property that is associated with revenue.**\n",
    "\n",
    "Also,from the scatter plot between budget and runtime,we can see that theres a positive correlation.The more the budget is the more the revenue is.\n",
    "\n",
    "**So budget is one other property that is associated with revenue.**\n",
    "\n",
    "So,these are the three best properties associated with revenue for a movie from the data we explored."
   ]
  },
  {
   "cell_type": "code",
   "execution_count": null,
   "metadata": {
    "collapsed": true
   },
   "outputs": [],
   "source": []
  }
 ],
 "metadata": {
  "kernelspec": {
   "display_name": "Python [default]",
   "language": "python",
   "name": "python3"
  },
  "language_info": {
   "codemirror_mode": {
    "name": "ipython",
    "version": 3
   },
   "file_extension": ".py",
   "mimetype": "text/x-python",
   "name": "python",
   "nbconvert_exporter": "python",
   "pygments_lexer": "ipython3",
   "version": "3.6.2"
  }
 },
 "nbformat": 4,
 "nbformat_minor": 2
}
